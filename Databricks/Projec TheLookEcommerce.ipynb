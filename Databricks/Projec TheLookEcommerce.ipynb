{
 "cells": [
  {
   "cell_type": "code",
   "execution_count": 0,
   "metadata": {
    "application/vnd.databricks.v1+cell": {
     "cellMetadata": {
      "byteLimit": 2048000,
      "rowLimit": 10000
     },
     "inputWidgets": {},
     "nuid": "76513818-626d-4968-af71-69f63bf125e8",
     "showTitle": false,
     "tableResultSettingsMap": {},
     "title": ""
    }
   },
   "outputs": [],
   "source": [
    "from pyspark.sql.types import StructType, StructField\n",
    "from pyspark.sql.types import StringType, IntegerType, DoubleType\n",
    "import pyspark.pandas as pd\n",
    "pd.set_option('display.max_rows', 20)\n",
    "from pyspark.ml.feature import VectorAssembler"
   ]
  },
  {
   "cell_type": "code",
   "execution_count": 0,
   "metadata": {
    "application/vnd.databricks.v1+cell": {
     "cellMetadata": {
      "byteLimit": 2048000,
      "rowLimit": 10000
     },
     "inputWidgets": {},
     "nuid": "e49b8f3c-07a4-4735-b57f-4c75af1857ce",
     "showTitle": false,
     "tableResultSettingsMap": {},
     "title": ""
    }
   },
   "outputs": [
    {
     "output_type": "stream",
     "name": "stdout",
     "output_type": "stream",
     "text": [
      "+-------+---+------+-------------+--------------+------------------+-------------+-------------+---------------+------------------------+------------------------+----------------+---------+-------------------+---------------+---------------------+------------------+-------------+\n|user_id|age|gender|      country|traffic_source|antiguedad_cliente|total_ordenes|total_gastado|ticket_promedio|dias_desde_ultima_compra|num_categorias_compradas|num_compras_0_30|uso_cupon|apertura_email_rate|visitas_web_mes|dispositivo_preferido|ratio_devoluciones|EstadoCliente|\n+-------+---+------+-------------+--------------+------------------+-------------+-------------+---------------+------------------------+------------------------+----------------+---------+-------------------+---------------+---------------------+------------------+-------------+\n|  43944| 68|     F|        Japan|        Search|              2220|            4|      1188.86|         297.22|                     561|                       8|               0|        0|               0.01|              1|               Mobile|              0.02|      Churned|\n|  80469| 65|     F|United States|       Organic|              1323|            4|      1158.91|         289.73|                     436|                       9|               0|        0|               0.03|              0|               Mobile|              0.04|      Churned|\n|  70869| 19|     F|        Spain|        Search|              2045|            4|      2061.24|         515.31|                      29|                       9|               0|        0|               0.55|              1|               Mobile|              0.05|       Activo|\n|  72988| 60|     F|        Spain|        Search|              1859|            4|      2669.18|          667.3|                      80|                      10|               0|        0|                0.1|              3|              Desktop|              0.05|       Activo|\n|  22592| 56|     F|        China|         Email|              1766|            4|       801.97|         200.49|                      20|                       8|               1|        0|               0.52|              3|                  App|              0.04|       Activo|\n|  91036| 58|     F|        Spain|       Organic|              1940|            3|      1133.21|         377.74|                     336|                       9|               0|        0|               0.08|              4|               Mobile|              0.05|      Churned|\n|  34617| 26|     F|United States|        Search|               835|            4|      1760.36|         440.09|                     255|                       8|               0|        0|               0.03|              0|               Mobile|              0.03|      Churned|\n|   1947| 30|     F|United States|        Search|              1985|            4|       890.44|         222.61|                     743|                       8|               0|        0|               0.04|              0|               Mobile|              0.01|      Churned|\n|   3350| 62|     M|United States|       Display|              2414|            4|       3901.5|         975.37|                     263|                      11|               0|        0|               0.06|              1|               Mobile|               0.0|      Churned|\n|   1385| 61|     F|       France|        Search|               214|            4|      2626.79|          656.7|                       6|                       8|               1|        0|                0.4|              5|              Desktop|              0.04|       Activo|\n|  63617| 41|     F|      Germany|        Search|               220|            3|      1278.56|         426.19|                      23|                       8|               1|        0|               0.42|              2|              Desktop|               0.0|       Activo|\n|  85979| 67|     F|       Brasil|        Search|               149|            4|      1283.56|         320.89|                      39|                       8|               0|        0|               0.02|              4|               Mobile|              0.02|       Activo|\n|  12590| 58|     F|       Brasil|        Search|              1955|            4|       762.18|         190.55|                     273|                       8|               0|        0|               0.07|              4|              Desktop|              0.03|      Churned|\n|  31414| 45|     M|       Brasil|        Search|               349|            4|      2376.72|         594.18|                      16|                       9|               1|        0|                0.4|              3|               Mobile|              0.03|       Activo|\n|  41304| 25|     M|       Brasil|       Organic|              2005|            4|      1974.44|         493.61|                     103|                       8|               0|        0|               0.06|              0|               Mobile|              0.03|      Churned|\n|  89592| 19|     M|       Brasil|        Search|               171|            4|      1407.47|         351.87|                      17|                       8|               0|        0|               0.27|              1|               Mobile|              0.01|       Activo|\n|  72276| 14|     M|      Germany|        Search|               927|            4|      1413.89|         353.47|                     301|                       8|               0|        0|               0.01|              2|               Mobile|              0.03|      Churned|\n|  28851| 26|     M|        China|        Search|               617|            4|      2250.14|         562.54|                      42|                       8|               0|        0|               0.12|              1|               Mobile|              0.03|       Activo|\n|  67375| 62|     F|        China|        Search|              1945|            4|       797.62|         199.41|                      17|                       8|               0|        0|                0.6|              0|               Mobile|              0.04|       Activo|\n|   4757| 64|     M|        China|        Search|               416|            4|       1885.3|         471.33|                      19|                       8|               1|        0|               0.24|              2|               Mobile|              0.01|       Activo|\n+-------+---+------+-------------+--------------+------------------+-------------+-------------+---------------+------------------------+------------------------+----------------+---------+-------------------+---------------+---------------------+------------------+-------------+\nonly showing top 20 rows\n\n"
     ]
    }
   ],
   "source": [
    "dfRaw = spark.read.format(\"csv\") \\\n",
    "    .option(\"header\", \"true\") \\\n",
    "    .option(\"delimiter\", \",\") \\\n",
    "    .option(\"encoding\", \"ISO-8859-1\") \\\n",
    "    .schema(\n",
    "        StructType([\n",
    "            StructField(\"user_id\", IntegerType(), True),\n",
    "            StructField(\"age\", IntegerType(), True),\n",
    "            StructField(\"gender\", StringType(), True),\n",
    "            StructField(\"country\", StringType(), True),\n",
    "            StructField(\"traffic_source\", StringType(), True),\n",
    "            StructField(\"antiguedad_cliente\", IntegerType(), True),\n",
    "            StructField(\"total_ordenes\", IntegerType(), True),\n",
    "            StructField(\"total_gastado\", DoubleType(), True),\n",
    "            StructField(\"ticket_promedio\", DoubleType(), True),\n",
    "            StructField(\"dias_desde_ultima_compra\", IntegerType(), True),\n",
    "            StructField(\"num_categorias_compradas\", IntegerType(), True),\n",
    "            StructField(\"num_compras_0_30\", IntegerType(), True),\n",
    "            StructField(\"uso_cupon\", IntegerType(), True),\n",
    "            StructField(\"apertura_email_rate\", DoubleType(), True),\n",
    "            StructField(\"visitas_web_mes\", IntegerType(), True),\n",
    "            StructField(\"dispositivo_preferido\", StringType(), True),\n",
    "            StructField(\"ratio_devoluciones\", DoubleType(), True),\n",
    "            StructField(\"EstadoCliente\", StringType(), True)\n",
    "        ])\n",
    "    ) \\\n",
    "    .load(\"dbfs:///FileStore/Proyecto_Ecommerce.csv\")\n",
    "dfRaw.show()"
   ]
  },
  {
   "cell_type": "code",
   "execution_count": 0,
   "metadata": {
    "application/vnd.databricks.v1+cell": {
     "cellMetadata": {
      "byteLimit": 2048000,
      "rowLimit": 10000
     },
     "inputWidgets": {},
     "nuid": "fa9a098f-ac2b-49df-a861-513833872e96",
     "showTitle": false,
     "tableResultSettingsMap": {},
     "title": ""
    }
   },
   "outputs": [
    {
     "output_type": "stream",
     "name": "stdout",
     "output_type": "stream",
     "text": [
      "+-------+---+------+-------+--------------+------------------+-------------+-------------+---------------+------------------------+------------------------+----------------+---------+-------------------+---------------+---------------------+------------------+-------------+\n|user_id|age|gender|country|traffic_source|antiguedad_cliente|total_ordenes|total_gastado|ticket_promedio|dias_desde_ultima_compra|num_categorias_compradas|num_compras_0_30|uso_cupon|apertura_email_rate|visitas_web_mes|dispositivo_preferido|ratio_devoluciones|EstadoCliente|\n+-------+---+------+-------+--------------+------------------+-------------+-------------+---------------+------------------------+------------------------+----------------+---------+-------------------+---------------+---------------------+------------------+-------------+\n|      0|  0|     0|      0|             0|                 0|            0|            0|              0|                       0|                       0|               0|        0|                  0|              0|                    0|                 0|            0|\n+-------+---+------+-------+--------------+------------------+-------------+-------------+---------------+------------------------+------------------------+----------------+---------+-------------------+---------------+---------------------+------------------+-------------+\n\n"
     ]
    }
   ],
   "source": [
    "from pyspark.sql.functions import col, sum, when\n",
    "\n",
    "dfNulls = dfRaw.select([\n",
    "    sum(when(col(c).isNull() | (col(c) == \"\"), 1).otherwise(0)).alias(c)\n",
    "    for c in dfRaw.columns\n",
    "])\n",
    "\n",
    "dfNulls.show()"
   ]
  },
  {
   "cell_type": "code",
   "execution_count": 0,
   "metadata": {
    "application/vnd.databricks.v1+cell": {
     "cellMetadata": {
      "byteLimit": 2048000,
      "rowLimit": 10000
     },
     "inputWidgets": {},
     "nuid": "c55243fb-4447-4233-8b5a-bc60239e8364",
     "showTitle": false,
     "tableResultSettingsMap": {},
     "title": ""
    }
   },
   "outputs": [],
   "source": [
    "from pyspark.ml.feature import StringIndexer"
   ]
  },
  {
   "cell_type": "code",
   "execution_count": 0,
   "metadata": {
    "application/vnd.databricks.v1+cell": {
     "cellMetadata": {
      "byteLimit": 2048000,
      "rowLimit": 10000
     },
     "inputWidgets": {},
     "nuid": "21ee4259-2d1f-4406-a3e1-b868ff36e2b2",
     "showTitle": false,
     "tableResultSettingsMap": {},
     "title": ""
    }
   },
   "outputs": [
    {
     "output_type": "stream",
     "name": "stdout",
     "output_type": "stream",
     "text": [
      "Out[14]: ['M', 'F']"
     ]
    }
   ],
   "source": [
    "indexadorGender = StringIndexer(inputCol=\"gender\", outputCol=\"gender_indexed\").fit(dfRaw)\n",
    "indexadorGender.labels"
   ]
  },
  {
   "cell_type": "code",
   "execution_count": 0,
   "metadata": {
    "application/vnd.databricks.v1+cell": {
     "cellMetadata": {
      "byteLimit": 2048000,
      "rowLimit": 10000
     },
     "inputWidgets": {},
     "nuid": "59c580c5-f17f-44fe-b992-35efa367de12",
     "showTitle": false,
     "tableResultSettingsMap": {},
     "title": ""
    }
   },
   "outputs": [
    {
     "output_type": "stream",
     "name": "stdout",
     "output_type": "stream",
     "text": [
      "Out[15]: ['China',\n 'United States',\n 'Brasil',\n 'South Korea',\n 'United Kingdom',\n 'France',\n 'Germany',\n 'Spain',\n 'Japan',\n 'Australia',\n 'Belgium',\n 'Poland',\n 'Colombia',\n 'Austria',\n 'Deutschland',\n 'EspaÃ±a']"
     ]
    }
   ],
   "source": [
    "indexadorCountry = StringIndexer(inputCol=\"country\", outputCol=\"country_indexed\").fit(dfRaw)\n",
    "indexadorCountry.labels"
   ]
  },
  {
   "cell_type": "code",
   "execution_count": 0,
   "metadata": {
    "application/vnd.databricks.v1+cell": {
     "cellMetadata": {
      "byteLimit": 2048000,
      "rowLimit": 10000
     },
     "inputWidgets": {},
     "nuid": "36d74975-b775-45ab-8a9d-15555bbd417e",
     "showTitle": false,
     "tableResultSettingsMap": {},
     "title": ""
    }
   },
   "outputs": [
    {
     "output_type": "stream",
     "name": "stdout",
     "output_type": "stream",
     "text": [
      "Out[16]: ['Search', 'Organic', 'Facebook', 'Email', 'Display']"
     ]
    }
   ],
   "source": [
    "indexadorTraffic_source = StringIndexer(inputCol=\"traffic_source\", outputCol=\"traffic_source_indexed\").fit(dfRaw)\n",
    "indexadorTraffic_source.labels"
   ]
  },
  {
   "cell_type": "code",
   "execution_count": 0,
   "metadata": {
    "application/vnd.databricks.v1+cell": {
     "cellMetadata": {
      "byteLimit": 2048000,
      "rowLimit": 10000
     },
     "inputWidgets": {},
     "nuid": "f79358dc-058f-4c15-9730-a22e4bb0ff9e",
     "showTitle": false,
     "tableResultSettingsMap": {},
     "title": ""
    }
   },
   "outputs": [
    {
     "output_type": "stream",
     "name": "stdout",
     "output_type": "stream",
     "text": [
      "Out[17]: ['Mobile', 'Desktop', 'App']"
     ]
    }
   ],
   "source": [
    "indexadordispositivo_preferido = StringIndexer(inputCol=\"dispositivo_preferido\", outputCol=\"dispositivo_preferido_indexed\").fit(dfRaw)\n",
    "indexadordispositivo_preferido.labels"
   ]
  },
  {
   "cell_type": "code",
   "execution_count": 0,
   "metadata": {
    "application/vnd.databricks.v1+cell": {
     "cellMetadata": {
      "byteLimit": 2048000,
      "rowLimit": 10000
     },
     "inputWidgets": {},
     "nuid": "3b5e1f43-103a-4146-bb15-99a1236ac522",
     "showTitle": false,
     "tableResultSettingsMap": {},
     "title": ""
    }
   },
   "outputs": [
    {
     "output_type": "stream",
     "name": "stdout",
     "output_type": "stream",
     "text": [
      "+-------+---+------+-------------+--------------+------------------+-------------+-------------+---------------+------------------------+------------------------+----------------+---------+-------------------+---------------+---------------------+------------------+-------------+-----------------------------+----------------------+--------------+---------------+\n|user_id|age|gender|      country|traffic_source|antiguedad_cliente|total_ordenes|total_gastado|ticket_promedio|dias_desde_ultima_compra|num_categorias_compradas|num_compras_0_30|uso_cupon|apertura_email_rate|visitas_web_mes|dispositivo_preferido|ratio_devoluciones|EstadoCliente|dispositivo_preferido_indexed|traffic_source_indexed|gender_indexed|country_indexed|\n+-------+---+------+-------------+--------------+------------------+-------------+-------------+---------------+------------------------+------------------------+----------------+---------+-------------------+---------------+---------------------+------------------+-------------+-----------------------------+----------------------+--------------+---------------+\n|  43944| 68|     F|        Japan|        Search|              2220|            4|      1188.86|         297.22|                     561|                       8|               0|        0|               0.01|              1|               Mobile|              0.02|      Churned|                          0.0|                   0.0|           1.0|            8.0|\n|  80469| 65|     F|United States|       Organic|              1323|            4|      1158.91|         289.73|                     436|                       9|               0|        0|               0.03|              0|               Mobile|              0.04|      Churned|                          0.0|                   1.0|           1.0|            1.0|\n|  70869| 19|     F|        Spain|        Search|              2045|            4|      2061.24|         515.31|                      29|                       9|               0|        0|               0.55|              1|               Mobile|              0.05|       Activo|                          0.0|                   0.0|           1.0|            7.0|\n|  72988| 60|     F|        Spain|        Search|              1859|            4|      2669.18|          667.3|                      80|                      10|               0|        0|                0.1|              3|              Desktop|              0.05|       Activo|                          1.0|                   0.0|           1.0|            7.0|\n|  22592| 56|     F|        China|         Email|              1766|            4|       801.97|         200.49|                      20|                       8|               1|        0|               0.52|              3|                  App|              0.04|       Activo|                          2.0|                   3.0|           1.0|            0.0|\n|  91036| 58|     F|        Spain|       Organic|              1940|            3|      1133.21|         377.74|                     336|                       9|               0|        0|               0.08|              4|               Mobile|              0.05|      Churned|                          0.0|                   1.0|           1.0|            7.0|\n|  34617| 26|     F|United States|        Search|               835|            4|      1760.36|         440.09|                     255|                       8|               0|        0|               0.03|              0|               Mobile|              0.03|      Churned|                          0.0|                   0.0|           1.0|            1.0|\n|   1947| 30|     F|United States|        Search|              1985|            4|       890.44|         222.61|                     743|                       8|               0|        0|               0.04|              0|               Mobile|              0.01|      Churned|                          0.0|                   0.0|           1.0|            1.0|\n|   3350| 62|     M|United States|       Display|              2414|            4|       3901.5|         975.37|                     263|                      11|               0|        0|               0.06|              1|               Mobile|               0.0|      Churned|                          0.0|                   4.0|           0.0|            1.0|\n|   1385| 61|     F|       France|        Search|               214|            4|      2626.79|          656.7|                       6|                       8|               1|        0|                0.4|              5|              Desktop|              0.04|       Activo|                          1.0|                   0.0|           1.0|            5.0|\n|  63617| 41|     F|      Germany|        Search|               220|            3|      1278.56|         426.19|                      23|                       8|               1|        0|               0.42|              2|              Desktop|               0.0|       Activo|                          1.0|                   0.0|           1.0|            6.0|\n|  85979| 67|     F|       Brasil|        Search|               149|            4|      1283.56|         320.89|                      39|                       8|               0|        0|               0.02|              4|               Mobile|              0.02|       Activo|                          0.0|                   0.0|           1.0|            2.0|\n|  12590| 58|     F|       Brasil|        Search|              1955|            4|       762.18|         190.55|                     273|                       8|               0|        0|               0.07|              4|              Desktop|              0.03|      Churned|                          1.0|                   0.0|           1.0|            2.0|\n|  31414| 45|     M|       Brasil|        Search|               349|            4|      2376.72|         594.18|                      16|                       9|               1|        0|                0.4|              3|               Mobile|              0.03|       Activo|                          0.0|                   0.0|           0.0|            2.0|\n|  41304| 25|     M|       Brasil|       Organic|              2005|            4|      1974.44|         493.61|                     103|                       8|               0|        0|               0.06|              0|               Mobile|              0.03|      Churned|                          0.0|                   1.0|           0.0|            2.0|\n|  89592| 19|     M|       Brasil|        Search|               171|            4|      1407.47|         351.87|                      17|                       8|               0|        0|               0.27|              1|               Mobile|              0.01|       Activo|                          0.0|                   0.0|           0.0|            2.0|\n|  72276| 14|     M|      Germany|        Search|               927|            4|      1413.89|         353.47|                     301|                       8|               0|        0|               0.01|              2|               Mobile|              0.03|      Churned|                          0.0|                   0.0|           0.0|            6.0|\n|  28851| 26|     M|        China|        Search|               617|            4|      2250.14|         562.54|                      42|                       8|               0|        0|               0.12|              1|               Mobile|              0.03|       Activo|                          0.0|                   0.0|           0.0|            0.0|\n|  67375| 62|     F|        China|        Search|              1945|            4|       797.62|         199.41|                      17|                       8|               0|        0|                0.6|              0|               Mobile|              0.04|       Activo|                          0.0|                   0.0|           1.0|            0.0|\n|   4757| 64|     M|        China|        Search|               416|            4|       1885.3|         471.33|                      19|                       8|               1|        0|               0.24|              2|               Mobile|              0.01|       Activo|                          0.0|                   0.0|           0.0|            0.0|\n+-------+---+------+-------------+--------------+------------------+-------------+-------------+---------------+------------------------+------------------------+----------------+---------+-------------------+---------------+---------------------+------------------+-------------+-----------------------------+----------------------+--------------+---------------+\nonly showing top 20 rows\n\n"
     ]
    }
   ],
   "source": [
    "from pyspark.ml import Pipeline\n",
    "\n",
    "pipeline = Pipeline(stages=[\n",
    "    indexadordispositivo_preferido,\n",
    "    indexadorTraffic_source,\n",
    "    indexadorGender,\n",
    "    indexadorCountry\n",
    "])\n",
    "dfRaw1 = pipeline.fit(dfRaw).transform(dfRaw)\n",
    "dfRaw1.show()"
   ]
  },
  {
   "cell_type": "code",
   "execution_count": 0,
   "metadata": {
    "application/vnd.databricks.v1+cell": {
     "cellMetadata": {
      "byteLimit": 2048000,
      "rowLimit": 10000
     },
     "inputWidgets": {},
     "nuid": "8e26a04a-a464-419e-94f2-e96159fd94d6",
     "showTitle": false,
     "tableResultSettingsMap": {},
     "title": ""
    }
   },
   "outputs": [
    {
     "output_type": "stream",
     "name": "stdout",
     "output_type": "stream",
     "text": [
      "Out[24]: ['Churned', 'Activo', 'Nuevo']"
     ]
    }
   ],
   "source": [
    "indexadorEstado = StringIndexer(inputCol=\"EstadoCliente\", outputCol=\"EstadoCliente_indexed\").fit(dfRaw1)\n",
    "indexadorEstado.labels"
   ]
  },
  {
   "cell_type": "code",
   "execution_count": 0,
   "metadata": {
    "application/vnd.databricks.v1+cell": {
     "cellMetadata": {
      "byteLimit": 2048000,
      "rowLimit": 10000
     },
     "inputWidgets": {},
     "nuid": "fc585436-336f-45d5-b871-92ed1a218112",
     "showTitle": false,
     "tableResultSettingsMap": {},
     "title": ""
    }
   },
   "outputs": [
    {
     "output_type": "stream",
     "name": "stdout",
     "output_type": "stream",
     "text": [
      "+-------+---+------+-------------+--------------+------------------+-------------+-------------+---------------+------------------------+------------------------+----------------+---------+-------------------+---------------+---------------------+------------------+-------------+-----------------------------+----------------------+--------------+---------------+---------------------+\n|user_id|age|gender|      country|traffic_source|antiguedad_cliente|total_ordenes|total_gastado|ticket_promedio|dias_desde_ultima_compra|num_categorias_compradas|num_compras_0_30|uso_cupon|apertura_email_rate|visitas_web_mes|dispositivo_preferido|ratio_devoluciones|EstadoCliente|dispositivo_preferido_indexed|traffic_source_indexed|gender_indexed|country_indexed|EstadoCliente_indexed|\n+-------+---+------+-------------+--------------+------------------+-------------+-------------+---------------+------------------------+------------------------+----------------+---------+-------------------+---------------+---------------------+------------------+-------------+-----------------------------+----------------------+--------------+---------------+---------------------+\n|  43944| 68|     F|        Japan|        Search|              2220|            4|      1188.86|         297.22|                     561|                       8|               0|        0|               0.01|              1|               Mobile|              0.02|      Churned|                          0.0|                   0.0|           1.0|            8.0|                  0.0|\n|  80469| 65|     F|United States|       Organic|              1323|            4|      1158.91|         289.73|                     436|                       9|               0|        0|               0.03|              0|               Mobile|              0.04|      Churned|                          0.0|                   1.0|           1.0|            1.0|                  0.0|\n|  70869| 19|     F|        Spain|        Search|              2045|            4|      2061.24|         515.31|                      29|                       9|               0|        0|               0.55|              1|               Mobile|              0.05|       Activo|                          0.0|                   0.0|           1.0|            7.0|                  1.0|\n|  72988| 60|     F|        Spain|        Search|              1859|            4|      2669.18|          667.3|                      80|                      10|               0|        0|                0.1|              3|              Desktop|              0.05|       Activo|                          1.0|                   0.0|           1.0|            7.0|                  1.0|\n|  22592| 56|     F|        China|         Email|              1766|            4|       801.97|         200.49|                      20|                       8|               1|        0|               0.52|              3|                  App|              0.04|       Activo|                          2.0|                   3.0|           1.0|            0.0|                  1.0|\n|  91036| 58|     F|        Spain|       Organic|              1940|            3|      1133.21|         377.74|                     336|                       9|               0|        0|               0.08|              4|               Mobile|              0.05|      Churned|                          0.0|                   1.0|           1.0|            7.0|                  0.0|\n|  34617| 26|     F|United States|        Search|               835|            4|      1760.36|         440.09|                     255|                       8|               0|        0|               0.03|              0|               Mobile|              0.03|      Churned|                          0.0|                   0.0|           1.0|            1.0|                  0.0|\n|   1947| 30|     F|United States|        Search|              1985|            4|       890.44|         222.61|                     743|                       8|               0|        0|               0.04|              0|               Mobile|              0.01|      Churned|                          0.0|                   0.0|           1.0|            1.0|                  0.0|\n|   3350| 62|     M|United States|       Display|              2414|            4|       3901.5|         975.37|                     263|                      11|               0|        0|               0.06|              1|               Mobile|               0.0|      Churned|                          0.0|                   4.0|           0.0|            1.0|                  0.0|\n|   1385| 61|     F|       France|        Search|               214|            4|      2626.79|          656.7|                       6|                       8|               1|        0|                0.4|              5|              Desktop|              0.04|       Activo|                          1.0|                   0.0|           1.0|            5.0|                  1.0|\n|  63617| 41|     F|      Germany|        Search|               220|            3|      1278.56|         426.19|                      23|                       8|               1|        0|               0.42|              2|              Desktop|               0.0|       Activo|                          1.0|                   0.0|           1.0|            6.0|                  1.0|\n|  85979| 67|     F|       Brasil|        Search|               149|            4|      1283.56|         320.89|                      39|                       8|               0|        0|               0.02|              4|               Mobile|              0.02|       Activo|                          0.0|                   0.0|           1.0|            2.0|                  1.0|\n|  12590| 58|     F|       Brasil|        Search|              1955|            4|       762.18|         190.55|                     273|                       8|               0|        0|               0.07|              4|              Desktop|              0.03|      Churned|                          1.0|                   0.0|           1.0|            2.0|                  0.0|\n|  31414| 45|     M|       Brasil|        Search|               349|            4|      2376.72|         594.18|                      16|                       9|               1|        0|                0.4|              3|               Mobile|              0.03|       Activo|                          0.0|                   0.0|           0.0|            2.0|                  1.0|\n|  41304| 25|     M|       Brasil|       Organic|              2005|            4|      1974.44|         493.61|                     103|                       8|               0|        0|               0.06|              0|               Mobile|              0.03|      Churned|                          0.0|                   1.0|           0.0|            2.0|                  0.0|\n|  89592| 19|     M|       Brasil|        Search|               171|            4|      1407.47|         351.87|                      17|                       8|               0|        0|               0.27|              1|               Mobile|              0.01|       Activo|                          0.0|                   0.0|           0.0|            2.0|                  1.0|\n|  72276| 14|     M|      Germany|        Search|               927|            4|      1413.89|         353.47|                     301|                       8|               0|        0|               0.01|              2|               Mobile|              0.03|      Churned|                          0.0|                   0.0|           0.0|            6.0|                  0.0|\n|  28851| 26|     M|        China|        Search|               617|            4|      2250.14|         562.54|                      42|                       8|               0|        0|               0.12|              1|               Mobile|              0.03|       Activo|                          0.0|                   0.0|           0.0|            0.0|                  1.0|\n|  67375| 62|     F|        China|        Search|              1945|            4|       797.62|         199.41|                      17|                       8|               0|        0|                0.6|              0|               Mobile|              0.04|       Activo|                          0.0|                   0.0|           1.0|            0.0|                  1.0|\n|   4757| 64|     M|        China|        Search|               416|            4|       1885.3|         471.33|                      19|                       8|               1|        0|               0.24|              2|               Mobile|              0.01|       Activo|                          0.0|                   0.0|           0.0|            0.0|                  1.0|\n+-------+---+------+-------------+--------------+------------------+-------------+-------------+---------------+------------------------+------------------------+----------------+---------+-------------------+---------------+---------------------+------------------+-------------+-----------------------------+----------------------+--------------+---------------+---------------------+\nonly showing top 20 rows\n\n"
     ]
    }
   ],
   "source": [
    "dfRaw2 = indexadorEstado.transform(dfRaw1)\n",
    "dfRaw2.show()"
   ]
  },
  {
   "cell_type": "code",
   "execution_count": 0,
   "metadata": {
    "application/vnd.databricks.v1+cell": {
     "cellMetadata": {
      "byteLimit": 2048000,
      "rowLimit": 10000
     },
     "inputWidgets": {},
     "nuid": "97d3625c-138f-4743-89ae-1d3322291a67",
     "showTitle": false,
     "tableResultSettingsMap": {},
     "title": ""
    }
   },
   "outputs": [
    {
     "output_type": "stream",
     "name": "stdout",
     "output_type": "stream",
     "text": [
      "+-------+---+------+-------------+--------------+------------------+-------------+-------------+---------------+------------------------+------------------------+----------------+---------+-------------------+---------------+---------------------+------------------+-------------+-----------------------------+----------------------+--------------+---------------+---------------------+--------------------+\n|user_id|age|gender|      country|traffic_source|antiguedad_cliente|total_ordenes|total_gastado|ticket_promedio|dias_desde_ultima_compra|num_categorias_compradas|num_compras_0_30|uso_cupon|apertura_email_rate|visitas_web_mes|dispositivo_preferido|ratio_devoluciones|EstadoCliente|dispositivo_preferido_indexed|traffic_source_indexed|gender_indexed|country_indexed|EstadoCliente_indexed|            features|\n+-------+---+------+-------------+--------------+------------------+-------------+-------------+---------------+------------------------+------------------------+----------------+---------+-------------------+---------------+---------------------+------------------+-------------+-----------------------------+----------------------+--------------+---------------+---------------------+--------------------+\n|  43944| 68|     F|        Japan|        Search|              2220|            4|      1188.86|         297.22|                     561|                       8|               0|        0|               0.01|              1|               Mobile|              0.02|      Churned|                          0.0|                   0.0|           1.0|            8.0|                  0.0|[68.0,2220.0,4.0,...|\n|  80469| 65|     F|United States|       Organic|              1323|            4|      1158.91|         289.73|                     436|                       9|               0|        0|               0.03|              0|               Mobile|              0.04|      Churned|                          0.0|                   1.0|           1.0|            1.0|                  0.0|[65.0,1323.0,4.0,...|\n|  70869| 19|     F|        Spain|        Search|              2045|            4|      2061.24|         515.31|                      29|                       9|               0|        0|               0.55|              1|               Mobile|              0.05|       Activo|                          0.0|                   0.0|           1.0|            7.0|                  1.0|[19.0,2045.0,4.0,...|\n|  72988| 60|     F|        Spain|        Search|              1859|            4|      2669.18|          667.3|                      80|                      10|               0|        0|                0.1|              3|              Desktop|              0.05|       Activo|                          1.0|                   0.0|           1.0|            7.0|                  1.0|[60.0,1859.0,4.0,...|\n|  22592| 56|     F|        China|         Email|              1766|            4|       801.97|         200.49|                      20|                       8|               1|        0|               0.52|              3|                  App|              0.04|       Activo|                          2.0|                   3.0|           1.0|            0.0|                  1.0|[56.0,1766.0,4.0,...|\n|  91036| 58|     F|        Spain|       Organic|              1940|            3|      1133.21|         377.74|                     336|                       9|               0|        0|               0.08|              4|               Mobile|              0.05|      Churned|                          0.0|                   1.0|           1.0|            7.0|                  0.0|[58.0,1940.0,3.0,...|\n|  34617| 26|     F|United States|        Search|               835|            4|      1760.36|         440.09|                     255|                       8|               0|        0|               0.03|              0|               Mobile|              0.03|      Churned|                          0.0|                   0.0|           1.0|            1.0|                  0.0|[26.0,835.0,4.0,1...|\n|   1947| 30|     F|United States|        Search|              1985|            4|       890.44|         222.61|                     743|                       8|               0|        0|               0.04|              0|               Mobile|              0.01|      Churned|                          0.0|                   0.0|           1.0|            1.0|                  0.0|[30.0,1985.0,4.0,...|\n|   3350| 62|     M|United States|       Display|              2414|            4|       3901.5|         975.37|                     263|                      11|               0|        0|               0.06|              1|               Mobile|               0.0|      Churned|                          0.0|                   4.0|           0.0|            1.0|                  0.0|[62.0,2414.0,4.0,...|\n|   1385| 61|     F|       France|        Search|               214|            4|      2626.79|          656.7|                       6|                       8|               1|        0|                0.4|              5|              Desktop|              0.04|       Activo|                          1.0|                   0.0|           1.0|            5.0|                  1.0|[61.0,214.0,4.0,2...|\n|  63617| 41|     F|      Germany|        Search|               220|            3|      1278.56|         426.19|                      23|                       8|               1|        0|               0.42|              2|              Desktop|               0.0|       Activo|                          1.0|                   0.0|           1.0|            6.0|                  1.0|[41.0,220.0,3.0,1...|\n|  85979| 67|     F|       Brasil|        Search|               149|            4|      1283.56|         320.89|                      39|                       8|               0|        0|               0.02|              4|               Mobile|              0.02|       Activo|                          0.0|                   0.0|           1.0|            2.0|                  1.0|[67.0,149.0,4.0,1...|\n|  12590| 58|     F|       Brasil|        Search|              1955|            4|       762.18|         190.55|                     273|                       8|               0|        0|               0.07|              4|              Desktop|              0.03|      Churned|                          1.0|                   0.0|           1.0|            2.0|                  0.0|[58.0,1955.0,4.0,...|\n|  31414| 45|     M|       Brasil|        Search|               349|            4|      2376.72|         594.18|                      16|                       9|               1|        0|                0.4|              3|               Mobile|              0.03|       Activo|                          0.0|                   0.0|           0.0|            2.0|                  1.0|[45.0,349.0,4.0,2...|\n|  41304| 25|     M|       Brasil|       Organic|              2005|            4|      1974.44|         493.61|                     103|                       8|               0|        0|               0.06|              0|               Mobile|              0.03|      Churned|                          0.0|                   1.0|           0.0|            2.0|                  0.0|[25.0,2005.0,4.0,...|\n|  89592| 19|     M|       Brasil|        Search|               171|            4|      1407.47|         351.87|                      17|                       8|               0|        0|               0.27|              1|               Mobile|              0.01|       Activo|                          0.0|                   0.0|           0.0|            2.0|                  1.0|[19.0,171.0,4.0,1...|\n|  72276| 14|     M|      Germany|        Search|               927|            4|      1413.89|         353.47|                     301|                       8|               0|        0|               0.01|              2|               Mobile|              0.03|      Churned|                          0.0|                   0.0|           0.0|            6.0|                  0.0|[14.0,927.0,4.0,1...|\n|  28851| 26|     M|        China|        Search|               617|            4|      2250.14|         562.54|                      42|                       8|               0|        0|               0.12|              1|               Mobile|              0.03|       Activo|                          0.0|                   0.0|           0.0|            0.0|                  1.0|[26.0,617.0,4.0,2...|\n|  67375| 62|     F|        China|        Search|              1945|            4|       797.62|         199.41|                      17|                       8|               0|        0|                0.6|              0|               Mobile|              0.04|       Activo|                          0.0|                   0.0|           1.0|            0.0|                  1.0|[62.0,1945.0,4.0,...|\n|   4757| 64|     M|        China|        Search|               416|            4|       1885.3|         471.33|                      19|                       8|               1|        0|               0.24|              2|               Mobile|              0.01|       Activo|                          0.0|                   0.0|           0.0|            0.0|                  1.0|[64.0,416.0,4.0,1...|\n+-------+---+------+-------------+--------------+------------------+-------------+-------------+---------------+------------------------+------------------------+----------------+---------+-------------------+---------------+---------------------+------------------+-------------+-----------------------------+----------------------+--------------+---------------+---------------------+--------------------+\nonly showing top 20 rows\n\n"
     ]
    }
   ],
   "source": [
    "dfRaw3 = VectorAssembler(\n",
    "    inputCols = [\n",
    "        \"age\",\n",
    "        \"antiguedad_cliente\",\n",
    "        \"total_ordenes\",\n",
    "        \"total_gastado\",\n",
    "        \"ticket_promedio\",\n",
    "        \"dias_desde_ultima_compra\",\n",
    "        \"num_categorias_compradas\",\n",
    "        \"num_compras_0_30\",\n",
    "        \"uso_cupon\",\n",
    "        \"apertura_email_rate\",\n",
    "        \"visitas_web_mes\",\n",
    "        \"ratio_devoluciones\",\n",
    "        \"dispositivo_preferido_indexed\",\n",
    "        \"traffic_source_indexed\",\n",
    "        \"gender_indexed\",\n",
    "        \"country_indexed\"\n",
    "    ],\n",
    "    outputCol=\"features\"\n",
    ").transform(dfRaw2)\n",
    "\n",
    "dfRaw3.show()  "
   ]
  },
  {
   "cell_type": "code",
   "execution_count": 0,
   "metadata": {
    "application/vnd.databricks.v1+cell": {
     "cellMetadata": {
      "byteLimit": 2048000,
      "rowLimit": 10000
     },
     "inputWidgets": {},
     "nuid": "a81fb8f3-dde0-46f5-bb4d-cb43a49ff566",
     "showTitle": false,
     "tableResultSettingsMap": {},
     "title": ""
    }
   },
   "outputs": [],
   "source": [
    "from pyspark.ml.classification import DecisionTreeClassifier\n",
    "from pyspark.ml.evaluation import MulticlassClassificationEvaluator\n",
    "from pyspark.ml.tuning import ParamGridBuilder\n",
    "from pyspark.ml.tuning import CrossValidator"
   ]
  },
  {
   "cell_type": "code",
   "execution_count": 0,
   "metadata": {
    "application/vnd.databricks.v1+cell": {
     "cellMetadata": {
      "byteLimit": 2048000,
      "rowLimit": 10000
     },
     "inputWidgets": {},
     "nuid": "e79fb021-0282-4326-b8a9-a4a9fe3436fd",
     "showTitle": false,
     "tableResultSettingsMap": {},
     "title": ""
    }
   },
   "outputs": [],
   "source": [
    "algoritmo = DecisionTreeClassifier(\n",
    "  labelCol = \"EstadoCliente_indexed\", \n",
    "  featuresCol = \"features\"\n",
    ")"
   ]
  },
  {
   "cell_type": "code",
   "execution_count": 0,
   "metadata": {
    "application/vnd.databricks.v1+cell": {
     "cellMetadata": {
      "byteLimit": 2048000,
      "rowLimit": 10000
     },
     "inputWidgets": {},
     "nuid": "f3d6af2b-d0e2-43c2-a7c2-0ca867daadb0",
     "showTitle": false,
     "tableResultSettingsMap": {},
     "title": ""
    }
   },
   "outputs": [],
   "source": [
    "evaluador = MulticlassClassificationEvaluator(\n",
    "  labelCol = \"EstadoCliente_indexed\",\n",
    "  predictionCol = \"prediction\",\n",
    "  metricName=\"accuracy\"\n",
    ")\n"
   ]
  },
  {
   "cell_type": "code",
   "execution_count": 0,
   "metadata": {
    "application/vnd.databricks.v1+cell": {
     "cellMetadata": {
      "byteLimit": 2048000,
      "rowLimit": 10000
     },
     "inputWidgets": {},
     "nuid": "71d5f33e-6bbc-4e3a-bb20-4ce464afa30c",
     "showTitle": false,
     "tableResultSettingsMap": {},
     "title": ""
    }
   },
   "outputs": [],
   "source": [
    "mallaDeParametros = ParamGridBuilder().\\\n",
    "addGrid(algoritmo.maxDepth, [5, 10, 15]).\\\n",
    "addGrid(algoritmo.impurity, [\"entropy\", \"gini\"]).\\\n",
    "build()\n"
   ]
  },
  {
   "cell_type": "code",
   "execution_count": 0,
   "metadata": {
    "application/vnd.databricks.v1+cell": {
     "cellMetadata": {
      "byteLimit": 2048000,
      "rowLimit": 10000
     },
     "inputWidgets": {},
     "nuid": "305327af-cb10-4a54-a2ac-70edbbe71f4f",
     "showTitle": false,
     "tableResultSettingsMap": {},
     "title": ""
    }
   },
   "outputs": [],
   "source": [
    "validacionCruzada = CrossValidator(\n",
    "  estimator = algoritmo,\n",
    "  estimatorParamMaps = mallaDeParametros,\n",
    "  evaluator = evaluador,\n",
    "  numFolds = 5 \n",
    ")  "
   ]
  },
  {
   "cell_type": "code",
   "execution_count": 0,
   "metadata": {
    "application/vnd.databricks.v1+cell": {
     "cellMetadata": {
      "byteLimit": 2048000,
      "rowLimit": 10000
     },
     "inputWidgets": {},
     "nuid": "54ceb7f3-e1c6-4aa6-b7c8-58ba0ed533ef",
     "showTitle": false,
     "tableResultSettingsMap": {},
     "title": ""
    }
   },
   "outputs": [],
   "source": [
    "modelosGenerados = validacionCruzada.fit(dfRaw3)"
   ]
  },
  {
   "cell_type": "code",
   "execution_count": 0,
   "metadata": {
    "application/vnd.databricks.v1+cell": {
     "cellMetadata": {
      "byteLimit": 2048000,
      "rowLimit": 10000
     },
     "inputWidgets": {},
     "nuid": "17b06098-e183-4b93-9201-3a150f596589",
     "showTitle": false,
     "tableResultSettingsMap": {},
     "title": ""
    }
   },
   "outputs": [],
   "source": [
    "modelo = modelosGenerados.bestModel"
   ]
  },
  {
   "cell_type": "code",
   "execution_count": 0,
   "metadata": {
    "application/vnd.databricks.v1+cell": {
     "cellMetadata": {
      "byteLimit": 2048000,
      "rowLimit": 10000
     },
     "inputWidgets": {},
     "nuid": "c7184cd3-c833-427d-b539-9c5c7243b164",
     "showTitle": false,
     "tableResultSettingsMap": {},
     "title": ""
    }
   },
   "outputs": [
    {
     "output_type": "stream",
     "name": "stdout",
     "output_type": "stream",
     "text": [
      "+-------+---+------+-------------+--------------+------------------+-------------+-------------+---------------+------------------------+------------------------+----------------+---------+-------------------+---------------+---------------------+------------------+-------------+-----------------------------+----------------------+--------------+---------------+---------------------+--------------------+-----------------+--------------------+----------+\n|user_id|age|gender|      country|traffic_source|antiguedad_cliente|total_ordenes|total_gastado|ticket_promedio|dias_desde_ultima_compra|num_categorias_compradas|num_compras_0_30|uso_cupon|apertura_email_rate|visitas_web_mes|dispositivo_preferido|ratio_devoluciones|EstadoCliente|dispositivo_preferido_indexed|traffic_source_indexed|gender_indexed|country_indexed|EstadoCliente_indexed|            features|    rawPrediction|         probability|prediction|\n+-------+---+------+-------------+--------------+------------------+-------------+-------------+---------------+------------------------+------------------------+----------------+---------+-------------------+---------------+---------------------+------------------+-------------+-----------------------------+----------------------+--------------+---------------+---------------------+--------------------+-----------------+--------------------+----------+\n|  43944| 68|     F|        Japan|        Search|              2220|            4|      1188.86|         297.22|                     561|                       8|               0|        0|               0.01|              1|               Mobile|              0.02|      Churned|                          0.0|                   0.0|           1.0|            8.0|                  0.0|[68.0,2220.0,4.0,...|[59224.0,0.0,0.0]|       [1.0,0.0,0.0]|       0.0|\n|  80469| 65|     F|United States|       Organic|              1323|            4|      1158.91|         289.73|                     436|                       9|               0|        0|               0.03|              0|               Mobile|              0.04|      Churned|                          0.0|                   1.0|           1.0|            1.0|                  0.0|[65.0,1323.0,4.0,...|[59224.0,0.0,0.0]|       [1.0,0.0,0.0]|       0.0|\n|  70869| 19|     F|        Spain|        Search|              2045|            4|      2061.24|         515.31|                      29|                       9|               0|        0|               0.55|              1|               Mobile|              0.05|       Activo|                          0.0|                   0.0|           1.0|            7.0|                  1.0|[19.0,2045.0,4.0,...| [0.0,6691.0,0.0]|       [0.0,1.0,0.0]|       1.0|\n|  72988| 60|     F|        Spain|        Search|              1859|            4|      2669.18|          667.3|                      80|                      10|               0|        0|                0.1|              3|              Desktop|              0.05|       Activo|                          1.0|                   0.0|           1.0|            7.0|                  1.0|[60.0,1859.0,4.0,...| [0.0,6691.0,0.0]|       [0.0,1.0,0.0]|       1.0|\n|  22592| 56|     F|        China|         Email|              1766|            4|       801.97|         200.49|                      20|                       8|               1|        0|               0.52|              3|                  App|              0.04|       Activo|                          2.0|                   3.0|           1.0|            0.0|                  1.0|[56.0,1766.0,4.0,...| [0.0,6691.0,0.0]|       [0.0,1.0,0.0]|       1.0|\n|  91036| 58|     F|        Spain|       Organic|              1940|            3|      1133.21|         377.74|                     336|                       9|               0|        0|               0.08|              4|               Mobile|              0.05|      Churned|                          0.0|                   1.0|           1.0|            7.0|                  0.0|[58.0,1940.0,3.0,...|[59224.0,0.0,0.0]|       [1.0,0.0,0.0]|       0.0|\n|  34617| 26|     F|United States|        Search|               835|            4|      1760.36|         440.09|                     255|                       8|               0|        0|               0.03|              0|               Mobile|              0.03|      Churned|                          0.0|                   0.0|           1.0|            1.0|                  0.0|[26.0,835.0,4.0,1...|[59224.0,0.0,0.0]|       [1.0,0.0,0.0]|       0.0|\n|   1947| 30|     F|United States|        Search|              1985|            4|       890.44|         222.61|                     743|                       8|               0|        0|               0.04|              0|               Mobile|              0.01|      Churned|                          0.0|                   0.0|           1.0|            1.0|                  0.0|[30.0,1985.0,4.0,...|[59224.0,0.0,0.0]|       [1.0,0.0,0.0]|       0.0|\n|   3350| 62|     M|United States|       Display|              2414|            4|       3901.5|         975.37|                     263|                      11|               0|        0|               0.06|              1|               Mobile|               0.0|      Churned|                          0.0|                   4.0|           0.0|            1.0|                  0.0|[62.0,2414.0,4.0,...|[59224.0,0.0,0.0]|       [1.0,0.0,0.0]|       0.0|\n|   1385| 61|     F|       France|        Search|               214|            4|      2626.79|          656.7|                       6|                       8|               1|        0|                0.4|              5|              Desktop|              0.04|       Activo|                          1.0|                   0.0|           1.0|            5.0|                  1.0|[61.0,214.0,4.0,2...| [0.0,6691.0,0.0]|       [0.0,1.0,0.0]|       1.0|\n|  63617| 41|     F|      Germany|        Search|               220|            3|      1278.56|         426.19|                      23|                       8|               1|        0|               0.42|              2|              Desktop|               0.0|       Activo|                          1.0|                   0.0|           1.0|            6.0|                  1.0|[41.0,220.0,3.0,1...| [0.0,6691.0,0.0]|       [0.0,1.0,0.0]|       1.0|\n|  85979| 67|     F|       Brasil|        Search|               149|            4|      1283.56|         320.89|                      39|                       8|               0|        0|               0.02|              4|               Mobile|              0.02|       Activo|                          0.0|                   0.0|           1.0|            2.0|                  1.0|[67.0,149.0,4.0,1...| [0.0,6691.0,0.0]|       [0.0,1.0,0.0]|       1.0|\n|  12590| 58|     F|       Brasil|        Search|              1955|            4|       762.18|         190.55|                     273|                       8|               0|        0|               0.07|              4|              Desktop|              0.03|      Churned|                          1.0|                   0.0|           1.0|            2.0|                  0.0|[58.0,1955.0,4.0,...|[59224.0,0.0,0.0]|       [1.0,0.0,0.0]|       0.0|\n|  31414| 45|     M|       Brasil|        Search|               349|            4|      2376.72|         594.18|                      16|                       9|               1|        0|                0.4|              3|               Mobile|              0.03|       Activo|                          0.0|                   0.0|           0.0|            2.0|                  1.0|[45.0,349.0,4.0,2...| [0.0,6691.0,0.0]|       [0.0,1.0,0.0]|       1.0|\n|  41304| 25|     M|       Brasil|       Organic|              2005|            4|      1974.44|         493.61|                     103|                       8|               0|        0|               0.06|              0|               Mobile|              0.03|      Churned|                          0.0|                   1.0|           0.0|            2.0|                  0.0|[25.0,2005.0,4.0,...| [459.0,42.0,0.0]|[0.91616766467065...|       0.0|\n|  89592| 19|     M|       Brasil|        Search|               171|            4|      1407.47|         351.87|                      17|                       8|               0|        0|               0.27|              1|               Mobile|              0.01|       Activo|                          0.0|                   0.0|           0.0|            2.0|                  1.0|[19.0,171.0,4.0,1...| [0.0,6691.0,0.0]|       [0.0,1.0,0.0]|       1.0|\n|  72276| 14|     M|      Germany|        Search|               927|            4|      1413.89|         353.47|                     301|                       8|               0|        0|               0.01|              2|               Mobile|              0.03|      Churned|                          0.0|                   0.0|           0.0|            6.0|                  0.0|[14.0,927.0,4.0,1...|[59224.0,0.0,0.0]|       [1.0,0.0,0.0]|       0.0|\n|  28851| 26|     M|        China|        Search|               617|            4|      2250.14|         562.54|                      42|                       8|               0|        0|               0.12|              1|               Mobile|              0.03|       Activo|                          0.0|                   0.0|           0.0|            0.0|                  1.0|[26.0,617.0,4.0,2...| [0.0,6691.0,0.0]|       [0.0,1.0,0.0]|       1.0|\n|  67375| 62|     F|        China|        Search|              1945|            4|       797.62|         199.41|                      17|                       8|               0|        0|                0.6|              0|               Mobile|              0.04|       Activo|                          0.0|                   0.0|           1.0|            0.0|                  1.0|[62.0,1945.0,4.0,...| [0.0,6691.0,0.0]|       [0.0,1.0,0.0]|       1.0|\n|   4757| 64|     M|        China|        Search|               416|            4|       1885.3|         471.33|                      19|                       8|               1|        0|               0.24|              2|               Mobile|              0.01|       Activo|                          0.0|                   0.0|           0.0|            0.0|                  1.0|[64.0,416.0,4.0,1...| [0.0,6691.0,0.0]|       [0.0,1.0,0.0]|       1.0|\n+-------+---+------+-------------+--------------+------------------+-------------+-------------+---------------+------------------------+------------------------+----------------+---------+-------------------+---------------+---------------------+------------------+-------------+-----------------------------+----------------------+--------------+---------------+---------------------+--------------------+-----------------+--------------------+----------+\nonly showing top 20 rows\n\n"
     ]
    }
   ],
   "source": [
    "dfPrediccion = modelo.transform(dfRaw3)\n",
    "dfPrediccion.show()"
   ]
  },
  {
   "cell_type": "code",
   "execution_count": 0,
   "metadata": {
    "application/vnd.databricks.v1+cell": {
     "cellMetadata": {
      "byteLimit": 2048000,
      "rowLimit": 10000
     },
     "inputWidgets": {},
     "nuid": "76d77d21-8ad7-4ecc-8425-4b62ee2fd6c7",
     "showTitle": false,
     "tableResultSettingsMap": {},
     "title": ""
    }
   },
   "outputs": [
    {
     "output_type": "stream",
     "name": "stdout",
     "output_type": "stream",
     "text": [
      "+---------------------+----------+-------------+\n|EstadoCliente_indexed|prediction|probability  |\n+---------------------+----------+-------------+\n|0.0                  |0.0       |[1.0,0.0,0.0]|\n|0.0                  |0.0       |[1.0,0.0,0.0]|\n|1.0                  |1.0       |[0.0,1.0,0.0]|\n|1.0                  |1.0       |[0.0,1.0,0.0]|\n|1.0                  |1.0       |[0.0,1.0,0.0]|\n+---------------------+----------+-------------+\nonly showing top 5 rows\n\n"
     ]
    }
   ],
   "source": [
    "dfPrediccion.select(\n",
    "  dfPrediccion[\"EstadoCliente_indexed\"],\n",
    "  dfPrediccion[\"prediction\"],\n",
    "  dfPrediccion[\"probability\"]\n",
    ").show(5, False)"
   ]
  },
  {
   "cell_type": "code",
   "execution_count": 0,
   "metadata": {
    "application/vnd.databricks.v1+cell": {
     "cellMetadata": {
      "byteLimit": 2048000,
      "rowLimit": 10000
     },
     "inputWidgets": {},
     "nuid": "3fd9b6e0-8f00-4e38-ba42-d54d49e12c60",
     "showTitle": false,
     "tableResultSettingsMap": {},
     "title": ""
    }
   },
   "outputs": [
    {
     "output_type": "stream",
     "name": "stdout",
     "output_type": "stream",
     "text": [
      "Out[39]: 0.9946269233956739"
     ]
    }
   ],
   "source": [
    "evaluador = MulticlassClassificationEvaluator(\n",
    "  labelCol=\"EstadoCliente_indexed\", \n",
    "  predictionCol=\"prediction\", \n",
    "  metricName=\"accuracy\"\n",
    ")\n",
    "evaluador.evaluate(dfPrediccion)"
   ]
  }
 ],
 "metadata": {
  "application/vnd.databricks.v1+notebook": {
   "computePreferences": null,
   "dashboards": [],
   "environmentMetadata": {
    "base_environment": "",
    "environment_version": "1"
   },
   "inputWidgetPreferences": null,
   "language": "python",
   "notebookMetadata": {
    "pythonIndentUnit": 4
   },
   "notebookName": "Projec TheLookEcommerce",
   "widgets": {}
  }
 },
 "nbformat": 4,
 "nbformat_minor": 0
}